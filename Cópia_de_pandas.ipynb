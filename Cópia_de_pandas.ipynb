{
  "cells": [
    {
      "cell_type": "code",
      "source": [
        "ndo"
      ],
      "metadata": {
        "id": "IcPyJ9kHZjO6"
      },
      "execution_count": null,
      "outputs": []
    },
    {
      "cell_type": "markdown",
      "metadata": {
        "id": "mfIMtw6BaiO1"
      },
      "source": [
        "## Pandas DataFrame: Criando a partir de uma lista"
      ]
    },
    {
      "cell_type": "code",
      "execution_count": null,
      "metadata": {
        "id": "qQ5S72eoaiuA"
      },
      "outputs": [],
      "source": [
        "import pandas as pd\n",
        "\n",
        "last_names = ['Connor', 'Connor', 'Reese']\n",
        "first_names = ['Sarah', 'John', 'Kyle']\n",
        "df = pd.DataFrame({\n",
        "  'first_name': first_names,\n",
        "  'last_name': last_names,\n",
        "})\n",
        "df"
      ]
    },
    {
      "cell_type": "markdown",
      "metadata": {
        "id": "da6CMhXZas7m"
      },
      "source": [
        "## Pandas DataFrame: renomeando colunas"
      ]
    },
    {
      "cell_type": "code",
      "execution_count": null,
      "metadata": {
        "id": "PidN8TlvatXt"
      },
      "outputs": [],
      "source": [
        "import pandas as pd\n",
        "df = pd.DataFrame({\n",
        "    'Year': [2016, 2015, 2014, 2013, 2012],\n",
        "    'Top Animal': ['Giant panda', 'Chicken', 'Pig', 'Turkey', 'Dog']\n",
        "})\n",
        "\n",
        "df.rename(columns={\n",
        "    'Year': 'Calendar Year',\n",
        "    'Top Animal': 'Favorite Animal',\n",
        "}, inplace=True)\n",
        "df"
      ]
    },
    {
      "cell_type": "markdown",
      "metadata": {
        "id": "-3GmnRDV--F_"
      },
      "source": [
        "## Pandas DataFrame: Query com regexp (regular expression)"
      ]
    },
    {
      "cell_type": "code",
      "execution_count": null,
      "metadata": {
        "id": "y2_DTKp-9v2A"
      },
      "outputs": [],
      "source": [
        "import pandas as pd\n",
        "df = pd.DataFrame({\n",
        "  'first_name': ['Sarah', 'John', 'Kyle', 'Joe'],\n",
        "  'last_name': ['Connor', 'Connor', 'Reese', 'Bonnot'],\n",
        "})\n",
        "\n",
        "df[df.last_name.str.match('.*onno.*')]"
      ]
    },
    {
      "cell_type": "markdown",
      "metadata": {
        "id": "VR_tSBKZPCHe"
      },
      "source": [
        "## Pandas DataFrame: Query usando o nome da variável"
      ]
    },
    {
      "cell_type": "markdown",
      "metadata": {
        "id": "emvt3RwC4U2L"
      },
      "source": [
        "Evaluate a variable as the value to find."
      ]
    },
    {
      "cell_type": "code",
      "execution_count": null,
      "metadata": {
        "id": "5chfuU3RPItU"
      },
      "outputs": [],
      "source": [
        "import pandas as pd\n",
        "df = pd.DataFrame({\n",
        "  'first_name': ['Sarah', 'John', 'Kyle'],\n",
        "  'last_name': ['Connor', 'Connor', 'Reese'],\n",
        "})\n",
        "\n",
        "foo = 'Connor'\n",
        "df.query('last_name == @foo')"
      ]
    },
    {
      "cell_type": "markdown",
      "metadata": {
        "id": "fnwXL2jnEO0V"
      },
      "source": [
        "## Pandas: Alterando valores  NaN ( (do inglês Not a Number) em uma coluna (NaN pode ser valores não preenchidos: por exemplo, não digitaram a cidade de uma pessoa)"
      ]
    },
    {
      "cell_type": "code",
      "execution_count": null,
      "metadata": {
        "id": "EeKjQOEJEOVh"
      },
      "outputs": [],
      "source": [
        "import numpy as np\n",
        "import pandas as pd\n",
        "df = pd.DataFrame({\n",
        "  'dogs': [5, 10, np.nan, 7],\n",
        "})\n",
        "\n",
        "df['dogs'].replace(np.nan, 0, regex=True)"
      ]
    },
    {
      "cell_type": "markdown",
      "metadata": {
        "id": "dy-BKNgWUwnQ"
      },
      "source": [
        "## Pandas DataFrame: Ignore uma coluna. O nodo dataframe receberá as colunas selecionadas"
      ]
    },
    {
      "cell_type": "code",
      "execution_count": null,
      "metadata": {
        "id": "y00BW8DOUxGs"
      },
      "outputs": [],
      "source": [
        "import pandas as pd\n",
        "df = pd.DataFrame({\n",
        "  'first_name': ['Sarah', 'John', 'Kyle', 'Joe'],\n",
        "  'last_name': ['Connor', 'Connor', 'Reese', 'Bonnot'],\n",
        "})\n",
        "\n",
        "novo_df =df.loc[:, df.columns!='last_name']\n",
        "novo_df"
      ]
    },
    {
      "cell_type": "markdown",
      "source": [
        "##lendo dados de uma fonte na internet\n",
        "O arquivo CSV é  um arquivo de texto, separado por algum caracter (; no nosso caso)"
      ],
      "metadata": {
        "id": "dpPE5r5Ba8Ge"
      }
    },
    {
      "cell_type": "code",
      "source": [
        "df = pd.read_csv('https://raw.githubusercontent.com/brunamulinari/BasicPythonProjects/main/Base_ficticia/baseficticia.csv', sep = ';')"
      ],
      "metadata": {
        "id": "F0IXPC7ma8S1"
      },
      "execution_count": null,
      "outputs": []
    },
    {
      "cell_type": "markdown",
      "source": [
        "## Apresentando os primeiros 10 registros"
      ],
      "metadata": {
        "id": "ly1vmBFTa8bl"
      }
    },
    {
      "cell_type": "code",
      "source": [
        "df.head(10)"
      ],
      "metadata": {
        "id": "atT8n0iia8jl"
      },
      "execution_count": null,
      "outputs": []
    },
    {
      "cell_type": "markdown",
      "source": [
        "## head mostra as primeiras linhas, tal mostra as ultimas"
      ],
      "metadata": {
        "id": "UE_gUXLEa87U"
      }
    },
    {
      "cell_type": "code",
      "source": [
        "df.tail(n=5)"
      ],
      "metadata": {
        "id": "8kMlH-Gra9Dn"
      },
      "execution_count": null,
      "outputs": []
    },
    {
      "cell_type": "markdown",
      "source": [
        "##Qual o formato do nosso dataframe ?"
      ],
      "metadata": {
        "id": "D9FUs5EPa9NR"
      }
    },
    {
      "cell_type": "code",
      "source": [
        "df.shape"
      ],
      "metadata": {
        "id": "GgR56HKJa9U9"
      },
      "execution_count": null,
      "outputs": []
    },
    {
      "cell_type": "markdown",
      "source": [
        "##Qual a estrutura do nosso dataframe ?"
      ],
      "metadata": {
        "id": "OO6e5n-1a9ds"
      }
    },
    {
      "cell_type": "code",
      "source": [
        "df.info()"
      ],
      "metadata": {
        "id": "NVGhuoU_a9me"
      },
      "execution_count": null,
      "outputs": []
    },
    {
      "cell_type": "markdown",
      "source": [
        "## Descrevendo o dataframe"
      ],
      "metadata": {
        "id": "_EWhb5qkiV-9"
      }
    },
    {
      "cell_type": "code",
      "source": [
        "df.describe()"
      ],
      "metadata": {
        "id": "rCelhdlBiWIG"
      },
      "execution_count": null,
      "outputs": []
    },
    {
      "cell_type": "markdown",
      "source": [
        "##Exibindo apenas algumas colunas (tem que usar [[ e ]] mesmo !)"
      ],
      "metadata": {
        "id": "aMw3ZaU1a9vX"
      }
    },
    {
      "cell_type": "code",
      "source": [
        "df_novo=df[['produto','quantidade']]\n",
        "df_novo.head(2)"
      ],
      "metadata": {
        "id": "i1IVsoRJa939"
      },
      "execution_count": null,
      "outputs": []
    },
    {
      "cell_type": "markdown",
      "source": [
        "#Repetindo, usando loc\n",
        "\n",
        "> 1:5 determina que somente as linhas de 1 a 5 sejam copiadas\n",
        "\n",
        "> ['produto','quantidade'] determina que somente estas duas colunas foram copiadas\n",
        "\n",
        "\n",
        "\n"
      ],
      "metadata": {
        "id": "_fzYdHspa-A9"
      }
    },
    {
      "cell_type": "code",
      "source": [
        "df_novo = df.loc[1:5, ['produto','quantidade']]\n",
        "df_novo.head(10)"
      ],
      "metadata": {
        "id": "FIYtdBa6evfF"
      },
      "execution_count": null,
      "outputs": []
    },
    {
      "cell_type": "markdown",
      "source": [
        "#Exibindo apenas algumas colunas"
      ],
      "metadata": {
        "id": "lv9APDCCevyF"
      }
    },
    {
      "cell_type": "code",
      "source": [
        "df[['produto','quantidade']].head(5)"
      ],
      "metadata": {
        "id": "tny5v8dDev4v"
      },
      "execution_count": null,
      "outputs": []
    },
    {
      "cell_type": "markdown",
      "source": [
        "#Exibindo apenas os valores não repetidos de uma coluna. Se ela tiver vários valores, só aparece um de cada !"
      ],
      "metadata": {
        "id": "OjnpKHzWev_a"
      }
    },
    {
      "cell_type": "code",
      "source": [
        "df['setor'].unique()"
      ],
      "metadata": {
        "id": "_ez-WMCTewIL"
      },
      "execution_count": null,
      "outputs": []
    },
    {
      "cell_type": "markdown",
      "source": [
        "#Contando quantas ocorrencias de cada valor na coluna SETOR"
      ],
      "metadata": {
        "id": "uu9yEbavewON"
      }
    },
    {
      "cell_type": "code",
      "source": [
        "df['setor'].value_counts()"
      ],
      "metadata": {
        "id": "ewamAefhewUd"
      },
      "execution_count": null,
      "outputs": []
    },
    {
      "cell_type": "markdown",
      "source": [
        "## E em order crescente?"
      ],
      "metadata": {
        "id": "-cnI_tg7iHuu"
      }
    },
    {
      "cell_type": "code",
      "source": [
        "df['setor'].value_counts().sort_values(ascending = True)"
      ],
      "metadata": {
        "id": "RmolctMsiH4m"
      },
      "execution_count": null,
      "outputs": []
    },
    {
      "cell_type": "markdown",
      "source": [
        "##Que esquisito, não? temos 3 setores informatica, mas com case diferente entre elas...\n",
        "###Que tal transformar tudo em maiuscula e repetir?\n",
        "###Vamos criar uma função (DEF) que retorna maiusculas e chamar dentro do proprio pandas"
      ],
      "metadata": {
        "id": "KwjY0EMjewdF"
      }
    },
    {
      "cell_type": "code",
      "source": [
        "def transforma_para_minusculas(x):\n",
        "   return(str(x).upper())\n",
        "df['setor'] = df['setor'].apply(func = transforma_para_minusculas)\n",
        "df['setor'].value_counts()"
      ],
      "metadata": {
        "id": "nFykiOa2ewyN"
      },
      "execution_count": null,
      "outputs": []
    },
    {
      "cell_type": "markdown",
      "source": [
        "## Nada como uma imagem para apresentar dados !"
      ],
      "metadata": {
        "id": "3B59OJgmew7F"
      }
    },
    {
      "cell_type": "code",
      "source": [
        "df['setor'].value_counts().plot(kind='bar')"
      ],
      "metadata": {
        "id": "U1yytwXhh-48"
      },
      "execution_count": null,
      "outputs": []
    }
  ],
  "metadata": {
    "colab": {
      "private_outputs": true,
      "toc_visible": true,
      "provenance": []
    },
    "kernelspec": {
      "display_name": "Python 3",
      "name": "python3"
    },
    "language_info": {
      "name": "python"
    }
  },
  "nbformat": 4,
  "nbformat_minor": 0
}