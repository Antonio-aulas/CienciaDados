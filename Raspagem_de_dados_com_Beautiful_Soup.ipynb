{
  "nbformat": 4,
  "nbformat_minor": 0,
  "metadata": {
    "colab": {
      "name": "Raspagem de dados com Beautiful Soup.ipynb",
      "provenance": []
    },
    "kernelspec": {
      "name": "python3",
      "display_name": "Python 3"
    }
  },
  "cells": [
    {
      "cell_type": "code",
      "metadata": {
        "id": "cjqGCtEky5xJ"
      },
      "source": [
        "from bs4 import BeautifulSoup\n",
        "import pandas as pd\n",
        "from bs4 import BeautifulSoup\n",
        "import matplotlib.pyplot as plt"
      ],
      "execution_count": 20,
      "outputs": []
    },
    {
      "cell_type": "code",
      "source": [
        "html_votos = \"\"\"\n",
        "<html lang=\"en\">\n",
        "<head>\n",
        "    <meta charset=\"UTF-8\">\n",
        "    <meta name=\"viewport\" content=\"width=device-width, initial-scale=1.0\">\n",
        "    <title>Resultados da Eleição</title>\n",
        "</head>\n",
        "<body>\n",
        "\n",
        "    <div class=\"candidato\">\n",
        "        <h2>Candidato 1</h2>\n",
        "        <p>Total de Votos: <span class=\"votos\">1000</span></p>\n",
        "    </div>\n",
        "\n",
        "    <div class=\"candidato\">\n",
        "        <h2>Candidato 2</h2>\n",
        "        <p>Total de Votos: <span class=\"votos\">800</span></p>\n",
        "    </div>\n",
        "\n",
        "    <div class=\"candidato\">\n",
        "        <h2>Candidato 3</h2>\n",
        "        <p>Total de Votos: <span class=\"votos\">1200</span></p>\n",
        "    </div>\n",
        "\n",
        "    <div class=\"candidato\">\n",
        "        <h2>Candidato 4</h2>\n",
        "        <p>Total de Votos: <span class=\"votos\">600</span></p>\n",
        "    </div>\n",
        "\n",
        "    <div class=\"candidato\">\n",
        "        <h2>Candidato 5</h2>\n",
        "        <p>Total de Votos: <span class=\"votos\">1500</span></p>\n",
        "    </div>\n",
        "\n",
        "</body>\n",
        "</html>\n",
        "\"\"\"\n"
      ],
      "metadata": {
        "id": "2ny2dF-Hfybc"
      },
      "execution_count": 21,
      "outputs": []
    },
    {
      "cell_type": "code",
      "metadata": {
        "id": "ACd8s2hl8GRJ"
      },
      "source": [
        "soup = BeautifulSoup(html_votos, 'html.parser')\n",
        "# Seleciona todos os elementos com a classe \"candidato\"\n",
        "candidatos = soup.find_all(class_='candidato')\n",
        "dados_candidatos = []\n",
        "# Itera sobre os candidatos e exibe os resultados na tela\n",
        "for candidato in candidatos:\n",
        "        nome = candidato.find('h2').text\n",
        "        votos = candidato.find(class_='votos').text\n",
        "        print(f\"{nome}: {votos} votos\")\n",
        "        votos = int(candidato.find(class_='votos').text)\n",
        "        dados_candidatos.append({'Nome': nome, 'Votos': votos})\n",
        "\n",
        "df = pd.DataFrame(dados_candidatos)\n",
        "\n",
        "# Exibe o DataFrame\n",
        "print(\"Dados em DataFrame:\")\n",
        "print(df)\n"
      ],
      "execution_count": null,
      "outputs": []
    },
    {
      "cell_type": "code",
      "source": [
        "# Gera um gráfico de barras\n",
        "plt.bar(df['Nome'], df['Votos'])\n",
        "plt.xlabel('Candidato')\n",
        "plt.ylabel('Total de Votos')\n",
        "plt.title('Resultado da Eleição')\n",
        "plt.show()"
      ],
      "metadata": {
        "id": "PrGlRykMj9oL"
      },
      "execution_count": null,
      "outputs": []
    }
  ]
}