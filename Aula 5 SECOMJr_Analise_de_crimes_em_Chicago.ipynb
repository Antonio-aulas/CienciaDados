{
  "cells": [
    {
      "cell_type": "markdown",
      "metadata": {
        "id": "Rk7XHcwKhcPr"
      },
      "source": [
        "<h1>Chicago Crime Analysis - Usando Data Science para entender  crime em Chicagono ano de  2018</h1>\n",
        "\n",
        "\n",
        "<strong>Bibliotecas</strong>\n",
        "<ul><li>pandas</li>\n",
        "    <li>matplotlib</li>\n",
        "    <li>seaborn</li>\n",
        "    <li>numpy</li>\n",
        "    <li>datetime</li>\n",
        "    <li>folium</li>\n",
        "    <li>bokeh</li>\n",
        "</ul>\n",
        "\n",
        "<strong>URL do  Dataset : </strong>https://data.cityofchicago.org/Public-Safety/Crimes-2001-to-present/ijzp-q8t2"
      ]
    },
    {
      "cell_type": "markdown",
      "source": [
        "#Principais objetivos do Projeto:\n",
        "##Crimes Comuns em Chicago\n",
        "*   Um gráfico que descreve os crimes mais ocorridos em Chicago em 2018.\n",
        "*   Uma comparação da frequência das 5 infrações mais cometidas\n",
        "##Prisões e a cidade de Chicago\n",
        "*   Qual é a probabilidade de uma prisão?\n",
        "*   Distribuição das prisões ao longo do mês\n",
        "*   Como a prisão varia de acordo com o tipo de crime?\n",
        "##Crime versus Tempo\n",
        "*   Como o crime varia ao longo do ano?\n",
        "*   Quais horários são mais inseguros?\n",
        "*   Que crimes são mais propensos a acontecer na escuridão do que pela manhã?\n",
        "*   Sua casa está protegida contra roubos durante o dia?\n",
        "*   Visualize o padrão de 24 horas de um crime\n",
        "\n",
        "##Crime vs Locais\n",
        "*   Qual distrito é o mais seguro para se viver? Qual distrito é \"distrito do pecado\"?\n",
        "*   Visualize os crimes mais ocorridos por distrito\n",
        "*   Concentração do Crime na Cidade da lista\n",
        "*   Você mora na área X. Você deseja ver as estatísticas de criminalidade em X no ano de 2018, especialmente de “Roubo”. Visualize um gráfico de série temporal para ver o mesmo.\n",
        "*   Item Existem padrões óbvios nas atividades de gangues distintas em Chicago em 2018?\n",
        "\n",
        "\n",
        "\n",
        "\n",
        "\n",
        "\n",
        "\n"
      ],
      "metadata": {
        "id": "9PyfNOSvZ5WD"
      }
    },
    {
      "cell_type": "code",
      "execution_count": null,
      "metadata": {
        "id": "Ao4pQP65hcPu"
      },
      "outputs": [],
      "source": [
        "import pandas as pd\n",
        "import matplotlib.pyplot as plt\n",
        "import seaborn as sns\n",
        "import numpy as np\n",
        "from datetime import datetime"
      ]
    },
    {
      "cell_type": "markdown",
      "metadata": {
        "id": "jqlBKZi0hcPv"
      },
      "source": [
        "<h2>Obtendo os dados</h2>\n",
        "Para acessar os dados compactados, precisamoes da lib requests, que acessa a internet, e a zipfile para descompactar"
      ]
    },
    {
      "cell_type": "code",
      "source": [
        "import requests\n",
        "from io import BytesIO\n",
        "from zipfile import ZipFile\n",
        "import os\n",
        "\n",
        "# URL do arquivo zip no GitHub\n",
        "url = \"https://github.com/Jashu-MJ/Chicago-Crime-Data-Analysis/raw/master/crimes_2018.zip\"\n",
        "\n",
        "# Fazer o download do arquivo zip\n",
        "response = requests.get(url)\n",
        "zip_file = ZipFile(BytesIO(response.content))\n",
        "\n",
        "# Listar os arquivos no zip (opcional)\n",
        "print(\"Arquivos no zip:\", zip_file.namelist())\n",
        "\n",
        "# Extrair o conteúdo do zip para um diretório temporário\n",
        "temp_dir = \"crimes_2018\"\n",
        "zip_file.extractall(temp_dir)\n",
        "\n",
        "# Listar os arquivos extraídos (opcional)\n",
        "print(\"Arquivos extraídos:\", os.listdir(temp_dir))\n",
        "\n",
        "# Ler o arquivo CSV (ou outro formato) em um DataFrame Pandas\n",
        "csv_file_path = os.path.join(temp_dir, \"crimes_2018.csv\")\n",
        "df = pd.read_csv(csv_file_path)\n",
        "\n",
        "# Exibir as primeiras linhas do DataFrame\n",
        "print(df.head())"
      ],
      "metadata": {
        "id": "MMTSRPEwhuiX"
      },
      "execution_count": null,
      "outputs": []
    },
    {
      "cell_type": "markdown",
      "metadata": {
        "id": "_IpxXmJ8hcPv"
      },
      "source": [
        "<h3>Apresentando os dados....</h3>"
      ]
    },
    {
      "cell_type": "code",
      "execution_count": null,
      "metadata": {
        "id": "0kERw5EahcPw"
      },
      "outputs": [],
      "source": [
        "# Numero de linhas e colunas\n",
        "df.shape"
      ]
    },
    {
      "cell_type": "code",
      "execution_count": null,
      "metadata": {
        "id": "T1ivonzqhcPw"
      },
      "outputs": [],
      "source": [
        "# Resumo estatísticos dos dados: numero de vezes que aparece, media, desvio padrão, minimo, percentis e máximo\n",
        "df.describe()"
      ]
    },
    {
      "cell_type": "code",
      "execution_count": null,
      "metadata": {
        "id": "jxlAKpcthcPw"
      },
      "outputs": [],
      "source": [
        "#exibindo o nome das colunas e o tipo de variável.\n",
        "df.info()"
      ]
    },
    {
      "cell_type": "code",
      "execution_count": null,
      "metadata": {
        "id": "INT7SavfhcPx"
      },
      "outputs": [],
      "source": [
        "# Mostrando as 5 primeiras linhas\n",
        "df.head()"
      ]
    },
    {
      "cell_type": "code",
      "execution_count": null,
      "metadata": {
        "id": "rfROTUe0hcPx"
      },
      "outputs": [],
      "source": [
        "# Exibindo o nome das colunas\n",
        "print(\"Nomes dos dados (colunas) armazenados :\\n\", list(df.columns))"
      ]
    },
    {
      "cell_type": "markdown",
      "metadata": {
        "id": "IT9jYd-QhcPy"
      },
      "source": [
        "<h3>Listagem dos crimes em Chicago: quais os tipos de crimes que são registrados</h3>"
      ]
    },
    {
      "cell_type": "code",
      "execution_count": null,
      "metadata": {
        "id": "s8wk5ecchcPy"
      },
      "outputs": [],
      "source": [
        "# Na coluna Primary Type, aparecem os tipos de crime. o comando unique retorna uma ocorrencia de cada, não exibindo tipos de crimes repetidos\n",
        "crimes = df['Primary Type'].unique()\n",
        "print(\"Quantos  tipos de crimes são registrados pela polícia de Chigaco:\", len(crimes))\n",
        "print()\n",
        "print(\"Os crimes são: :\\n\", crimes)"
      ]
    },
    {
      "cell_type": "markdown",
      "source": [
        "###Vamos fazer um mapeamento, entre as palavras em Ingles e as em portugies, e alterar todos os Primary Type para portugues\n",
        "\n"
      ],
      "metadata": {
        "id": "wsWCnXdXi_QH"
      }
    },
    {
      "cell_type": "code",
      "source": [
        "mapeamento_tipo = {\n",
        "    'THEFT': 'Roubo',\n",
        "    'CRIM SEXUAL ASSAULT': 'Assalto Sexual Criminoso',\n",
        "    'BATTERY': 'Agressão',\n",
        "    'DECEPTIVE PRACTICE': 'Fraude',\n",
        "    'OTHER OFFENSE': 'Outra Ofensa',\n",
        "    'ASSAULT': 'Assalto',\n",
        "    'MOTOR VEHICLE THEFT': 'Roubo de Veículo',\n",
        "    'CRIMINAL TRESPASS': 'Invasão Criminal',\n",
        "    'HOMICIDE': 'Homicídio',\n",
        "    'OFFENSE INVOLVING CHILDREN': 'Ofensa Envolvendo Crianças',\n",
        "    'SEX OFFENSE': 'Ofensa Sexual',\n",
        "    'WEAPONS VIOLATION': 'Violação de Armas',\n",
        "    'ROBBERY': 'Assalto à Mão Armada',\n",
        "    'BURGLARY': 'Roubo Residencial',\n",
        "    'KIDNAPPING': 'Sequestro',\n",
        "    'CRIMINAL DAMAGE': 'Invasão',\n",
        "    'PUBLIC PEACE VIOLATION': 'Violação da Paz Pública',\n",
        "    'INTIMIDATION': 'Intimidação',\n",
        "    'OBSCENITY': 'Obscenidade',\n",
        "    'STALKING': 'Perseguição',\n",
        "    'ARSON': 'Incêndio Criminoso',\n",
        "    'NARCOTICS': 'Narcóticos',\n",
        "    'PROSTITUTION': 'Prostituição',\n",
        "    'LIQUOR LAW VIOLATION': 'Violação da Lei de Bebidas Alcoólicas',\n",
        "    'CONCEALED CARRY LICENSE VIOLATION': 'Violação da Licença de Porte Oculto',\n",
        "    'INTERFERENCE WITH PUBLIC OFFICER': 'Interferência com Oficial Público',\n",
        "    'HUMAN TRAFFICKING': 'Tráfico de Seres Humanos',\n",
        "    'NON-CRIMINAL': 'Não Criminal',\n",
        "    'PUBLIC INDECENCY': 'Indecência Pública',\n",
        "    'GAMBLING': 'Jogo',\n",
        "    'OTHER NARCOTIC VIOLATION': 'Outra Violação de Narcóticos',\n",
        "    'NON-CRIMINAL (SUBJECT SPECIFIED)': 'Não Criminal (Especificado)',\n",
        "}\n",
        "\n",
        "\n",
        "# Substituir os valores na coluna Primary Type\n",
        "df['Primary Type'] = df['Primary Type'].replace(mapeamento_tipo)\n",
        "crimes = df['Primary Type'].unique()\n",
        "print(\"Quantos  tipos de crimes são registrados pela polícia de Chigaco:\", len(crimes))\n",
        "print()\n",
        "print(\"Os crimes são: :\\n\", crimes)"
      ],
      "metadata": {
        "id": "kjEGH9-ejB9n"
      },
      "execution_count": null,
      "outputs": []
    },
    {
      "cell_type": "markdown",
      "metadata": {
        "id": "VmMC8NQIhcPy"
      },
      "source": [
        "<h2>Um dos grandes problemas em Datasets</h2>\n",
        "O que fazer quando faltam dados ???"
      ]
    },
    {
      "cell_type": "code",
      "execution_count": null,
      "metadata": {
        "id": "wAKJ9nGdhcPy"
      },
      "outputs": [],
      "source": [
        "# quantos dados estão faltando  ? isna define os que são NaN\n",
        "# o primeiro sum retorna um dataset com quantos NaN tem em cada coluna, e o segundo, faz o somatorio de todos\n",
        "print(\"Número de valores que faltam no dataset : \", df.isna().sum().sum())"
      ]
    },
    {
      "cell_type": "code",
      "execution_count": null,
      "metadata": {
        "id": "ZaLdgQSdhcPy"
      },
      "outputs": [],
      "source": [
        "# Vamos verificar quais valores estão faltando, para que a policia possa efetuar correções no sistema de captação de dados\n",
        "missing_values = list(df.isna().sum())\n",
        "# missing values é a lista de valores faltando em cada coluna\n",
        "\n",
        "cols = list(df.columns)\n",
        "col_final = []\n",
        "for i in range(len(cols)):\n",
        "    if (missing_values[i] == 0):\n",
        "        cols[i]=\"Outros\"\n",
        "d = dict(zip(cols, missing_values)) # cria um \"dicionário\", que é uma estrutura de dados que tem as colunas e os valores que faltam nela\n",
        "\n",
        "print(\"Número de Valores ausentes em cada uma das características (counas) >>\")\n",
        "missing_vals = pd.DataFrame(d, index=[\"Valores Ausentes\"]) # criando um novo dataframe contendo os valores que faltam\n",
        "missing_vals.head()"
      ]
    },
    {
      "cell_type": "code",
      "execution_count": null,
      "metadata": {
        "id": "0gjwfTzUhcPz"
      },
      "outputs": [],
      "source": [
        "# Plotting the missing values in the dataset\n",
        "x = list(d.keys())\n",
        "y = list(d.values())\n",
        "sns.barplot(x=x, y=y, palette=\"GnBu_d\")\n",
        "plt.xticks(rotation=90)\n",
        "plt.title(\"Valores ausentes no dataset\", fontdict = {'fontsize': 20})\n",
        "plt.ylabel(\"Número de valores ausentes por Coluna\", fontdict={'fontsize': 15})\n",
        "plt.show()"
      ]
    },
    {
      "cell_type": "markdown",
      "metadata": {
        "id": "rv8XO6Y2hcPz"
      },
      "source": [
        "<h4>Um pouco sobre estes valores que faltam</h4>\n",
        "\n",
        "<strong> Por quê faltam informações?</strong>\n",
        "<p>Podemos observar que a maioria das informações que faltam no dataset original se referem a localização do crime. Estas infromações as vezes não são fornecidas adequadamente para a polícia, ou podem ter sido não anotadas pelo agente<br>\n",
        "<h4> Vamos então \"limpar\" estes dados do dataframe. O comando DROPNA \"dropa\" (elimina) os dados NaN.\n"
      ]
    },
    {
      "cell_type": "code",
      "execution_count": null,
      "metadata": {
        "id": "VfQkdK6yhcPz"
      },
      "outputs": [],
      "source": [
        "# The simplest cleaning technique here would be to drop all the rows with atleast one missing value\n",
        "df = df.dropna()\n",
        "df.info()"
      ]
    },
    {
      "cell_type": "code",
      "execution_count": null,
      "metadata": {
        "colab": {
          "base_uri": "https://localhost:8080/"
        },
        "id": "AoyCt3fZhcPz",
        "outputId": "06c30289-937b-4891-dceb-b0e0c5f1fd63"
      },
      "outputs": [
        {
          "output_type": "stream",
          "name": "stdout",
          "text": [
            "98.97 Porcentagem dos dados mantidos.\n"
          ]
        }
      ],
      "source": [
        "# Veja que os dados foram reduzidos de 265698  para 262960\n",
        "# qual a procentagem de dados que foram mantidos ?\n",
        "print(round(262960 / 265698 * 100,2), \"Porcentagem dos dados mantidos.\")"
      ]
    },
    {
      "cell_type": "markdown",
      "metadata": {
        "id": "RHjeUCAGhcPz"
      },
      "source": [
        "<pUsar o comando DROPNA pode prejudicar severamente as informações. Neste caso, vemos que somente 1.03% dos dados foram perdidos, o que não deve prejudicar a análise deles</p>"
      ]
    },
    {
      "cell_type": "markdown",
      "metadata": {
        "id": "Dldihaz8hcP0"
      },
      "source": [
        "<h2>1. Crimes mais comuns de  Chicago</h2>\n",
        "<h3>Top 5 Crimes em Chicago em 2018</h3>"
      ]
    },
    {
      "cell_type": "code",
      "execution_count": null,
      "metadata": {
        "id": "b8TDwEwZhcP1"
      },
      "outputs": [],
      "source": [
        "# Set the style of the plot first\n",
        "plt.style.use('tableau-colorblind10')  ## usando um dos estilos de plot apresentando anteriormente\n",
        "\n",
        "# ordenando o tipo de crime (Primary Type) em ordem decrescente do total de ocorrencias (value_counts)\n",
        "top_5_crimes = df['Primary Type'].value_counts().sort_values(ascending=False).head()\n",
        "# cria um dataset temporário para ser plotado\n",
        "temp = df.groupby('Primary Type', as_index=False).agg({\"ID\": \"count\"})\n",
        "temp = temp.sort_values(by=['ID'], ascending=False).head()\n",
        "temp = temp.sort_values(by='ID', ascending=True)\n",
        "sns.barplot(x='ID', y='Primary Type', data=temp, palette=\"Blues_d\")\n",
        "\n",
        "# alterando titulo e aparencia do gráfico\n",
        "plt.title(\"Top 5 Crimes em Chicago\", fontdict = {'fontsize': 30, 'fontname':'Arial', 'color': '#000000'})\n",
        "plt.xlabel(\"\\nNúmero de Crimes\", fontdict = {'fontsize': 15})\n",
        "plt.ylabel(\"\")\n",
        "plt.xticks(rotation=90)\n",
        "plt.show()\n"
      ]
    },
    {
      "cell_type": "markdown",
      "metadata": {
        "id": "3vx2kBWHhcP1"
      },
      "source": [
        "<h4>Os dados de date e hora não estão em formato para se trabalhar com Python. Eles usamo AM e PM para diferenciar horas, e outras caracteristicas. Vamos usar um função apra reescrever estes dados</h4>"
      ]
    },
    {
      "cell_type": "markdown",
      "metadata": {
        "id": "ddJeUnMPhcP2"
      },
      "source": [
        "<h4>Convertendo data e hora para um formato para python </h4>"
      ]
    },
    {
      "cell_type": "code",
      "execution_count": null,
      "metadata": {
        "id": "Oaw72dRzhcP2"
      },
      "outputs": [],
      "source": [
        "# Fun~ção de conversão de data e hora\n",
        "def time_convert(date_time):\n",
        "    s1 = date_time[:11]\n",
        "    s2 = date_time[11:]\n",
        "\n",
        "    month = s1[:2]\n",
        "    date = s1[3:5]\n",
        "    year = s1[6:10]\n",
        "\n",
        "    hr = s2[:2]\n",
        "    mins = s2[3:5]\n",
        "    sec = s2[6:8]\n",
        "    time_frame = s2[9:]\n",
        "    if(time_frame == 'PM'):\n",
        "        if (int(hr) != 12):\n",
        "            hr = str(int(hr) + 12)\n",
        "    else:\n",
        "        if(int(hr) == 12):\n",
        "            hr = '00'\n",
        "\n",
        "    final_date = datetime(int(year), int(month), int(date), int(hr), int(mins), int(sec))\n",
        "    return final_date"
      ]
    },
    {
      "cell_type": "code",
      "execution_count": null,
      "metadata": {
        "id": "1MHPIXJthcP2"
      },
      "outputs": [],
      "source": [
        "# Aplicando a função acima para todo a coluna Date do dataframe e salvando nela mesma\n",
        "df['Date'] = df['Date'].apply(time_convert)"
      ]
    },
    {
      "cell_type": "markdown",
      "metadata": {
        "id": "5niNkRVGhcP6"
      },
      "source": [
        "<h4>Criando uma coluna MES para melhorar a apresentação dos datos</h4>"
      ]
    },
    {
      "cell_type": "code",
      "execution_count": null,
      "metadata": {
        "id": "ohjE--G_hcP7"
      },
      "outputs": [],
      "source": [
        "def month(x):\n",
        "    return x.strftime(\"%B\")\n",
        "df['Month'] = df['Date'].apply(month)"
      ]
    },
    {
      "cell_type": "code",
      "source": [
        "#!sudo dpkg-reconfigure locales\n",
        "#tentativa de instalar locale para pt-br, para que os meses fossem em portugues"
      ],
      "metadata": {
        "id": "42QzO9JmnOdv"
      },
      "execution_count": null,
      "outputs": []
    },
    {
      "cell_type": "code",
      "execution_count": null,
      "metadata": {
        "id": "j7glrjTyhcP7"
      },
      "outputs": [],
      "source": [
        "# Frequência dos crimes que mais ocorreram em chicago em 2018\n",
        "# vamos inicialmente configurar o Python para que trabalhe com datas em portugues, para gerarmos os meses\n",
        "#from datetime import datetime\n",
        "#import locale\n",
        "\n",
        "# Defina a localização para o português do Brasil ('pt_BR')\n",
        "#locale.setlocale(locale.LC_TIME, 'pt_BR.UTF-8 UTF-8#')\n",
        "\n",
        "theft_dict ={} # dictionary\n",
        "battery_dict = {}\n",
        "crim_dam = {}\n",
        "assault = {}\n",
        "dec_prac = {}\n",
        "\n",
        "months = df[\"Month\"].unique()\n",
        "for month in months :\n",
        "    theft_dict[month]=0\n",
        "    battery_dict[month]=0\n",
        "    crim_dam[month]=0\n",
        "    assault[month]=0\n",
        "    dec_prac[month]=0\n",
        "# vamos fazer apenas para os 5 mais comuns\n",
        "for elem in df[df[\"Primary Type\"]==\"Roubo\"][\"Month\"]:\n",
        "    if elem in theft_dict.keys():\n",
        "        theft_dict[elem] += 1\n",
        "\n",
        "for elem in df[df[\"Primary Type\"]==\"Agressão\"][\"Month\"]:\n",
        "    if elem in battery_dict.keys():\n",
        "        battery_dict[elem] += 1\n",
        "\n",
        "for elem in df[df[\"Primary Type\"]==\"Invasão\"][\"Month\"]:\n",
        "    if elem in crim_dam.keys():\n",
        "        crim_dam[elem] += 1\n",
        "\n",
        "for elem in df[df[\"Primary Type\"]==\"Assalto\"][\"Month\"]:\n",
        "    if elem in assault.keys():\n",
        "        assault[elem] += 1\n",
        "\n",
        "for elem in df[df[\"Primary Type\"]==\"Fraude\"][\"Month\"]:\n",
        "    if elem in dec_prac.keys():\n",
        "        dec_prac[elem] += 1\n",
        "\n",
        "\n",
        "\n",
        "months = ['January', 'February', 'March', 'April', 'May', 'June', 'July', 'August', 'September', 'October', 'November', 'December']\n",
        "#months = ['Janeiro', 'Fevereiro', 'Março', 'Abril', 'Maio', 'Junho', 'Julho', 'Agosto', 'Setembro', 'Outubro', 'Novembro', 'Dezembro']\n",
        "\n",
        "theft_list = [(k,theft_dict[k]) for k in months]\n",
        "battery_list = [(k,battery_dict[k]) for k in months]\n",
        "crim_dam_list = [(k,crim_dam[k]) for k in months]\n",
        "assault_list = [(k,assault[k]) for k in months]\n",
        "dec_prac_list = [(k,dec_prac[k]) for k in months]"
      ]
    },
    {
      "cell_type": "code",
      "source": [
        "# verificando quantos crimes de Roubos ocorreram por mes (theft_list)"
      ],
      "metadata": {
        "id": "pPxbZd8BmtU9"
      },
      "execution_count": null,
      "outputs": []
    },
    {
      "cell_type": "code",
      "execution_count": null,
      "metadata": {
        "id": "iT1nP1T3hcP7"
      },
      "outputs": [],
      "source": [
        "# Plotting the graphs\n",
        "\n",
        "plt.style.use('seaborn-dark')\n",
        "#sns.set(rc={'axes.facecolor':'A0D7E6', 'figure.facecolor':'ffffff'})\n",
        "fig, ax = plt.subplots(figsize=(12,7))\n",
        "\n",
        "ax.spines[\"top\"].set_visible(False)\n",
        "ax.spines[\"bottom\"].set_visible(False)\n",
        "ax.spines[\"right\"].set_visible(False)\n",
        "ax.spines[\"left\"].set_visible(False)\n",
        "\n",
        "# Setting the ticks only on the bottom and the left of the graph\n",
        "ax.get_xaxis().tick_bottom()\n",
        "ax.get_yaxis().tick_left()\n",
        "\n",
        "plt.xticks(fontsize=14)\n",
        "plt.yticks(fontsize=14)\n",
        "\n",
        "plt.ylim(500, 6500)\n",
        "\n",
        "x = [z[0] for z in theft_list]\n",
        "# print(x)\n",
        "y = [z[1] for z in theft_list]\n",
        "ax.plot(x,y, color=\"black\")\n",
        "ax.lines[0].set_linestyle(\"--\")\n",
        "\n",
        "x = [z[0] for z in battery_list]\n",
        "y = [z[1] for z in battery_list]\n",
        "ax.plot(x,y, color=\"red\")\n",
        "ax.lines[1].set_linestyle(\"--\")\n",
        "\n",
        "x = [z[0] for z in crim_dam_list]\n",
        "y = [z[1] for z in crim_dam_list]\n",
        "ax.plot(x,y, color=\"blue\")\n",
        "ax.lines[2].set_linestyle(\"--\")\n",
        "\n",
        "x = [z[0] for z in assault_list]\n",
        "y = [z[1] for z in assault_list]\n",
        "ax.plot(x,y, color=\"orange\")\n",
        "ax.lines[3].set_linestyle(\"--\")\n",
        "\n",
        "# x,y = zip(*dec_prac.items())\n",
        "x = [z[0] for z in dec_prac_list]\n",
        "y = [z[1] for z in dec_prac_list]\n",
        "ax.plot(x,y, color=\"green\")\n",
        "ax.lines[4].set_linestyle(\"--\")\n",
        "\n",
        "\n",
        "for tick in ax.get_xticklabels():\n",
        "    tick.set_rotation(90)\n",
        "\n",
        "plt.text(10,5400,\"Roubo\",fontsize=18)\n",
        "plt.text(10,4000,\"Agressão\",fontsize=18,color=\"red\")\n",
        "plt.text(10,2400,\"Invasão\",fontsize=18,color=\"blue\")\n",
        "plt.text(10,1700,\"Assalto\",fontsize=18,color=\"orange\")\n",
        "plt.text(10,600,\"Deceptive\\nPractice\",fontsize=18,color=\"green\")\n",
        "\n",
        "ax.set_title(\"Frequencia de ocorrencia dos Top 5 Crimes\\n\",fontname=\"monospace\", fontsize=20)\n",
        "ax.set_xlabel(\"Mês\", fontsize=18)\n",
        "ax.set_ylabel(\"Número de  Crimes\\n\", fontsize=16)\n",
        "\n",
        "plt.show()"
      ]
    },
    {
      "cell_type": "code",
      "execution_count": null,
      "metadata": {
        "id": "NbAqTzyJhcP7"
      },
      "outputs": [],
      "source": [
        "# Dataframes para cada crime, para utilizarmos depois\n",
        "\n",
        "theft_df = df[df['Primary Type']=='Roubo']\n",
        "battery_df = df[df['Primary Type']=='Agressão']\n",
        "crim_dam_df = df[df['Primary Type']=='Invasão']\n",
        "assault_df = df[df['Primary Type']=='Assalto']\n",
        "dec_prac_df = df[df['Primary Type']=='Fraude']\n"
      ]
    },
    {
      "cell_type": "markdown",
      "metadata": {
        "id": "DI_SnMh0hcP7"
      },
      "source": [
        "<h2>2.Prisões em  Chicago</h2>\n"
      ]
    },
    {
      "cell_type": "code",
      "execution_count": null,
      "metadata": {
        "id": "dg4bpwgKhcP8"
      },
      "outputs": [],
      "source": [
        "# Arrest são as prisões. O comando abaixo conta os valores. Como só temos True ou False, retorna algo como abaixo\n",
        "l = df[\"Arrest\"].value_counts()\n",
        "l"
      ]
    },
    {
      "cell_type": "code",
      "source": [
        "false = l[0]\n",
        "true = l[1]\n",
        "\n",
        "arrest = pd.DataFrame({'Status':['Not Arrested','Arrested'],'Value':list(l)})\n",
        "print(\"Porcentagem  de não prisões efetuadas :\",false/(false+true)*100,'!')"
      ],
      "metadata": {
        "id": "ebH0XNWzrD7o"
      },
      "execution_count": null,
      "outputs": []
    },
    {
      "cell_type": "markdown",
      "metadata": {
        "id": "m9NJ0HPBhcP8"
      },
      "source": [
        "#Caraca! A change de não ser preso em 2018 era de  80%"
      ]
    },
    {
      "cell_type": "markdown",
      "metadata": {
        "id": "GAsteX3vhcP8"
      },
      "source": [
        "<h3>Prisões por meses</h3>"
      ]
    },
    {
      "cell_type": "code",
      "execution_count": null,
      "metadata": {
        "id": "q3R_HJ3UhcP8"
      },
      "outputs": [],
      "source": [
        "# verde são prisões efetuadas. Vamos ver por meses quais as quantidades de prisões efetuadas e não efetuadas\n",
        "plt.style.use('bmh')\n",
        "\n",
        "fig, ax = plt.subplots(figsize=(10, 5))\n",
        "ax = sns.countplot(x=\"Month\",\n",
        "                   hue='Arrest',\n",
        "                   data=df[['Month','Arrest']],  # usando apenas as colunas Month (criada por nós) e a Arrest , que é False ou True\n",
        "                   palette=['Red', 'Green'])\n",
        "months = ['January','February','March','April','May','June','July','August','September','October','November','December']\n",
        "\n",
        "ax.set( xlabel='Mês', ylabel='Número de Prisões', xticklabels=months)\n",
        "plt.title('Prisões realizadas em 2018', fontdict={'fontsize': 20, 'color': 'black'}, weight=\"bold\")\n",
        "plt.show()"
      ]
    },
    {
      "cell_type": "markdown",
      "metadata": {
        "id": "2SAGNvP4hcP8"
      },
      "source": [
        "<h3>Crimes e prisões ou não prisões</h3>"
      ]
    },
    {
      "cell_type": "code",
      "execution_count": null,
      "metadata": {
        "id": "_BF_pTpXhcP8"
      },
      "outputs": [],
      "source": [
        "# Agrupando (olha o goup by ai...) por prisão (Arrest) e por crimes (Primary Type)\n",
        "#arrest_crime = df.groupby(['Primary Type', 'Arrest'])['ID'].count()\n",
        "arrest_crime = df.groupby(['Primary Type', 'Arrest']).agg({'Arrest':\"count\"})\n",
        "arrest_crime.columns = [\"Count\"]\n",
        "# arrest_crime\n",
        "arrest_crime"
      ]
    },
    {
      "cell_type": "code",
      "execution_count": null,
      "metadata": {
        "id": "JfdW61--hcP8"
      },
      "outputs": [],
      "source": [
        "import math\n",
        "\n",
        "the_crimes=['Roubo', 'Agressão', 'Invasão', 'Assalto', 'Fraude', 'Violação de Armas', 'Narcóticos', 'Homicídio', 'Roubo Residencial', 'Interferência com Oficial Público']\n",
        "\n",
        "#the_crimes=['Roubo', 'Agressão', 'Invasão', 'Assalto', 'Fraude']\n",
        "\n",
        "# the_crimes has only the crimes we want to analyze now\n",
        "\n",
        "# create the dataframe arrest\n",
        "arrest = pd.DataFrame(columns=['Crime','True','False'])\n"
      ]
    },
    {
      "cell_type": "code",
      "source": [
        "\n",
        "# Criando nosso próprio dataset\n",
        "for i,crime in enumerate(the_crimes):\n",
        "\n",
        "    subset = df[df['Primary Type']==crime]\n",
        "    true = subset['Arrest'].value_counts().sort_index()[1]\n",
        "    false = subset['Arrest'].value_counts().sort_index()[0]\n",
        "    temp_df = pd.DataFrame({'Crime':[crime], 'True':[true], 'False':[false]})\n",
        "\n",
        "    arrest = arrest.append(temp_df)\n",
        "\n",
        "    arrest['True_per']=arrest['True']/(arrest['True']+arrest['False'])*100\n",
        "    arrest['False_per']=arrest['False']/(arrest['True']+arrest['False'])*100"
      ],
      "metadata": {
        "id": "PmDX4y3Cu2QQ"
      },
      "execution_count": null,
      "outputs": []
    },
    {
      "cell_type": "markdown",
      "source": [
        "##usando lib Bokeh (https://docs.bokeh.org/en/latest/)"
      ],
      "metadata": {
        "id": "T28jRgBARq3V"
      }
    },
    {
      "cell_type": "code",
      "source": [
        "from bokeh.io import output_file\n",
        "from bokeh.plotting import figure, show\n",
        "from bokeh.models import ColumnDataSource, CDSView, GroupFilter, HoverTool\n",
        "from bokeh.io import output_notebook\n"
      ],
      "metadata": {
        "id": "CMiO-JrNPuWV"
      },
      "execution_count": null,
      "outputs": []
    },
    {
      "cell_type": "code",
      "source": [
        "\n",
        "# arrest is our dataset\n",
        "\n",
        "# plot the dataset\n",
        "def style(p):\n",
        "        # Title\n",
        "        p.title.align = 'center'\n",
        "        p.title.text_font_size = '20pt'\n",
        "        p.title.text_font = 'serif'\n",
        "\n",
        "        # Axis titles\n",
        "        p.xaxis.axis_label_text_font_size = '14pt'\n",
        "        p.xaxis.axis_label_text_font_style = 'bold'\n",
        "        p.yaxis.axis_label_text_font_size = '14pt'\n",
        "        p.yaxis.axis_label_text_font_style = 'bold'\n",
        "\n",
        "        # Tick labels\n",
        "        p.xaxis.major_label_text_font_size = '12pt'\n",
        "        p.yaxis.major_label_text_font_size = '12pt'\n",
        "\n",
        "        return p\n",
        "\n",
        "#status = ['Arrested', 'Not Arrested']\n",
        "status = ['Arrested','Not Arrested']\n",
        "arrest_cds = ColumnDataSource(arrest)\n",
        "crimes = arrest_cds.data['Crime'].tolist()\n",
        "fig2 = figure(x_range=crimes, width = 700, height = 700, title = 'Prisões vs Crime ',     x_axis_label = 'Prisões', y_axis_label = 'Número de Crimes')\n",
        "fig2.vbar_stack(stackers = ['True','False'], x='Crime',width=0.25,  source=arrest_cds,color=['green','red'])\n",
        "fig2.xaxis.major_label_orientation = math.pi/2\n",
        "\n",
        "tooltips = [('Crime','@Crime'),('Arrested Percentage','@True_per'), ('Not Arrested Percentage', '@False_per')]\n",
        "hover = HoverTool(tooltips=tooltips, mode='vline')\n",
        "\n",
        "fig2.add_tools(hover)\n",
        "\n",
        "# fig2=style(fig2)\n",
        "\n",
        "output_notebook()\n",
        "show(fig2)"
      ],
      "metadata": {
        "id": "B5U7r9Lpthij"
      },
      "execution_count": null,
      "outputs": []
    },
    {
      "cell_type": "markdown",
      "metadata": {
        "id": "icQn8mJthcP9"
      },
      "source": [
        "<h2>3. Crime vs Time</h2>\n",
        "<h3>Distribuição dos crimes ao longo do ano</h3>"
      ]
    },
    {
      "cell_type": "code",
      "execution_count": null,
      "metadata": {
        "id": "doJ4WrjphcP9"
      },
      "outputs": [],
      "source": [
        "# Set plot style\n",
        "plt.style.use('ggplot')\n",
        "sns.set_context('notebook')\n",
        "\n",
        "# Code to plot\n",
        "sns.countplot(y='Month', data=df, palette=[\"#DF0D0D\"], order=['January', 'February', 'March', 'April', 'May', 'June', \"July\", 'August', 'September', 'October', 'November', 'December'], alpha=0.5)\n",
        "\n",
        "# Aesthetic appeal of the plot\n",
        "plt.title(\"Crimes durante o verão !\", fontdict={'fontsize': 25, 'color': '#DF0D0D', 'fontname':'Agency FB'}, weight=\"bold\")\n",
        "plt.ylabel(\"Mês\\n\", fontdict={'fontsize': 20}, weight=\"bold\", color=\"#833636\")\n",
        "plt.xlabel(\"\\nNúmero de  Crimes\", fontdict={'fontsize': 20}, weight=\"bold\", color=\"#833636\")\n",
        "\n",
        "plt.xticks(fontsize=15,color='black')\n",
        "plt.yticks(fontsize=15, color='black')\n",
        "plt.show()"
      ]
    },
    {
      "cell_type": "markdown",
      "metadata": {
        "id": "9Dhy3jkehcP9"
      },
      "source": [
        "<p><bold>Acontecem mais crimes de Maio a Agosto, que é o verão em Chicago, o que é uma importante informação para prevenção!</bold></p>"
      ]
    },
    {
      "cell_type": "markdown",
      "metadata": {
        "id": "y0JKIacghcP9"
      },
      "source": [
        "<h4>Da mesma forma que fizemos com Meses, vamos criar uma coluna nova de horas [24 hour format]</h4>"
      ]
    },
    {
      "cell_type": "code",
      "execution_count": null,
      "metadata": {
        "id": "wFOFv8cxhcP9"
      },
      "outputs": [],
      "source": [
        "def hour(x):\n",
        "    return x.strftime(\"%H\")\n",
        "df['Hour_Day'] = df['Date'].apply(hour)"
      ]
    },
    {
      "cell_type": "markdown",
      "metadata": {
        "id": "bjGGc2yehcP-"
      },
      "source": [
        "<h3>qual o horário menos seguro ?</h3>"
      ]
    },
    {
      "cell_type": "code",
      "execution_count": null,
      "metadata": {
        "id": "sg0-AVHjhcP-"
      },
      "outputs": [],
      "source": [
        "# Set plot style\n",
        "plt.style.use('seaborn-dark')\n",
        "sns.set_context('paper')\n",
        "\n",
        "df_horas = df.sort_values(by='Hour_Day')\n",
        "\n",
        "\n",
        "# Write code to plot\n",
        "fig, ax = plt.subplots(figsize=(10, 5))\n",
        "sns.countplot(x='Hour_Day', data=df_horas, palette=\"viridis\")\n",
        "\n",
        "# Aesthetic appeal\n",
        "plt.title(\"Horário Menos Seguro em  Chicago em 2018\", fontdict={'fontsize': 25, 'color': '#bb0e14','fontname':'Agency FB'}, weight=\"bold\")\n",
        "plt.xlabel(\"\\nHora\", fontdict={'fontsize': 15}, weight='bold')\n",
        "plt.ylabel(\"Número de Crimes\\n\", fontdict={'fontsize': 15}, weight=\"bold\")\n",
        "\n",
        "# Add Text to the plot\n",
        "plt.text(2, 7000, 'Menor taxa de criminalidade Crime Rate', fontdict={'fontsize': 14, 'color':\"blue\" }, weight='bold')\n",
        "\n",
        "plt.show()"
      ]
    },
    {
      "cell_type": "markdown",
      "metadata": {
        "id": "ntC8DHJPhcP-"
      },
      "source": [
        "<p>Que estranho, não é? A Taxa de criminalidade cai da meia-noite (00 horas) para as 05 horas.<br>\n",
        "    <strong>Além do frio forte, criminosos também dormem à noite!</strong>\n",
        "</p>"
      ]
    },
    {
      "cell_type": "markdown",
      "metadata": {
        "id": "fCXHCMpxhcP_"
      },
      "source": [
        "<h2>3. Crime vs Localização</h2>\n",
        "<h3>Um mapa simples de CHicago Usando as coordenadas</h3>"
      ]
    },
    {
      "cell_type": "code",
      "execution_count": null,
      "metadata": {
        "id": "691oXHgxhcP_"
      },
      "outputs": [],
      "source": [
        "#\n",
        "#sns.lmplot('X Coordinate','Y Coordinate', data=df, fit_reg=False, hue=\"District\", palette='colorblind', height=5,scatter_kws={\"marker\": \"+\",\"s\": 10})\n",
        "#sns.lmplot('X Coordinate', 'Y Coordinate', df, fit_reg=False, hue=\"District\", palette='colorblind', height=5, scatter_kws={\"marker\": \"+\", \"s\": 10})\n",
        "sns.lmplot(x='X Coordinate', y='Y Coordinate', data=df, fit_reg=False, hue=\"District\", palette='colorblind', height=5, scatter_kws={\"marker\": \"+\", \"s\": 10})\n",
        "\n",
        "\n",
        "ax = plt.gca()\n",
        "ax.set_title(\"Mapa das regiões de Chicago\\n\", fontdict={'fontsize': 15}, weight=\"bold\")\n",
        "plt.show()"
      ]
    },
    {
      "cell_type": "markdown",
      "metadata": {
        "id": "TfFFSnDphcQA"
      },
      "source": [
        "<h3>Ocorrencias mais comuns por distrito</h3>"
      ]
    },
    {
      "cell_type": "code",
      "execution_count": null,
      "metadata": {
        "scrolled": false,
        "id": "z2whjDXXhcQA"
      },
      "outputs": [],
      "source": [
        "# location attributes = ['Location Description','Beat','District', 'Ward', 'Community Area','X Coordinate','Y Coordinate', 'Latitude', 'Longitude','Location']\n",
        "#%matplotlib inline\n",
        "top = df.groupby(['District', 'Primary Type']).size().reset_index(name='counts').groupby('District').apply(lambda x: x.sort_values('counts',ascending=False).head(5))\n",
        "#print(topk)\n",
        "\n",
        "# factor plot to make multiple plots\n",
        "g = sns.catplot(x=\"Primary Type\", y='counts', col=\"District\", col_wrap=3, data=top, kind='bar')\n",
        "for ax in g.axes:\n",
        "    plt.setp(ax.get_xticklabels(), visible=True, rotation=45, ha='right')\n",
        "plt.subplots_adjust(hspace=0.4)"
      ]
    },
    {
      "cell_type": "code",
      "source": [
        "ax.get_xticklabels()"
      ],
      "metadata": {
        "colab": {
          "base_uri": "https://localhost:8080/"
        },
        "id": "C8Ha6RqmW7rx",
        "outputId": "e1aa82d3-7ee2-47dc-8748-99ea7610c9f0"
      },
      "execution_count": null,
      "outputs": [
        {
          "output_type": "execute_result",
          "data": {
            "text/plain": [
              "[Text(0, 0, 'Roubo'),\n",
              " Text(1, 0, 'Fraude'),\n",
              " Text(2, 0, 'Agressão'),\n",
              " Text(3, 0, 'Invasão'),\n",
              " Text(4, 0, 'Assalto'),\n",
              " Text(5, 0, 'Outra Ofensa'),\n",
              " Text(6, 0, 'Narcóticos'),\n",
              " Text(7, 0, 'Roubo Residencial'),\n",
              " Text(8, 0, 'Roubo de Veículo')]"
            ]
          },
          "metadata": {},
          "execution_count": 139
        }
      ]
    },
    {
      "cell_type": "code",
      "execution_count": null,
      "metadata": {
        "id": "tbHz2yt0hcQA"
      },
      "outputs": [],
      "source": [
        "## Crime data distribution of gang based criminal activities\n",
        "import folium\n",
        "\n",
        "dp=df[df['Primary Type']=='Fraude']\n",
        "battery = df[df['Primary Type']=='Agressão']\n",
        "cd = df[df['Primary Type']=='Invasão']\n",
        "mtheft = df[df['Primary Type']=='Roubo de Veículo']\n",
        "theft = df[df['Primary Type']=='Roubo']\n",
        "narcotics= df[df['Primary Type']=='Narcóticos']\n",
        "merge = cd.append(battery)\n",
        "merge = merge.append(mtheft)\n",
        "#merge = merge.append(cd)\n",
        "merge = merge.append(dp)\n",
        "merge = merge.append(theft)\n",
        "merge = merge.append(narcotics)\n",
        "chicago_map = folium.Map(location=[41.864073,-87.706819],\n",
        "                        zoom_start=11,\n",
        "                        tiles=\"openstreetmap\")\n",
        "locations = merge.groupby('Primary Type').nth(7)\n",
        "\n",
        "\n",
        "new_locations = locations.loc[:, ['Latitude', 'Longitude', 'Location Description', 'Arrest']]\n",
        "\n",
        "\n",
        "print(new_locations.head(6))\n",
        "\n",
        "\n",
        "popup_text = \"\"\"Community Index : {}<br\n",
        "                Arrest : {}<br>\n",
        "                Location Description : {}<br>\"\"\"\n",
        "\n",
        "\n",
        "for i in range(len(new_locations)):\n",
        "    lat = new_locations.iloc[i][0]\n",
        "    long = new_locations.iloc[i][1]\n",
        "    popup_text = \"\"\"Community Index : {}<br>\n",
        "                Arrest : {}<br>\n",
        "                Location Description : {}<br>\"\"\"\n",
        "    popup_text = popup_text.format(new_locations.index[i],\n",
        "                               new_locations.iloc[i][-1],\n",
        "                               new_locations.iloc[i][-2]\n",
        "                               )\n",
        "    folium.CircleMarker(location = [lat, long], popup= popup_text, fill = True).add_to(chicago_map)\n",
        "\n",
        "\n",
        "#chicago_map.save('map.html')\n",
        "display(chicago_map)\n",
        "\n",
        "#chicago_map._build_map()\n"
      ]
    },
    {
      "cell_type": "code",
      "execution_count": null,
      "metadata": {
        "id": "0SezOaMJhcQA"
      },
      "outputs": [],
      "source": [
        "a=''\n",
        "a=input(\"Entre com o tipo de crime para visualizar onde mais ocorrem (obs. Digital igual aos crimes em portugues (ex. Roubo, Homicídio, etc)) \")\n",
        "\n",
        "var=df[df['Primary Type']==a]\n",
        "unique_locations = var['Location'].value_counts()\n",
        "print(\"%%%%%%%%%%%%%%%%%%%%%%%%%%% \",len(unique_locations))\n",
        "#print(\"%%%%%%%%%%%%%%%%%%%%%%%%%%% \",unique_locations)\n",
        "\n",
        "\n",
        "unique_locations.index\n",
        "\n",
        "\n",
        "CR_index = pd.DataFrame({\"Raw_String\" : unique_locations.index, \"ValueCount\":unique_locations})\n",
        "CR_index.index = range(len(unique_locations))\n",
        "print(CR_index.head())\n",
        "print(\"valuecount\",len(CR_index['ValueCount']))\n",
        "def Location_extractor(Raw_Str):\n",
        "    preProcess = Raw_Str[1:-1].split(',')\n",
        "    lat =  float(preProcess[0])\n",
        "    long = float(preProcess[1])\n",
        "    return (lat, long)\n",
        "\n",
        "\n",
        "CR_index['LocationCoord'] = CR_index['Raw_String'].apply(Location_extractor)\n",
        "\n",
        "\n",
        "CR_index  = CR_index.drop(columns=['Raw_String'], axis = 1)\n",
        "\n",
        "\n",
        "#chicago_map._build_map()\n",
        "#%%time\n",
        "\n",
        "chicago_map_crime = folium.Map(location=[41.895140898, -87.624255632],\n",
        "                        zoom_start=15,\n",
        "                        tiles=\"openstreetmap\")\n",
        "\n",
        "for i in range(500):\n",
        "    lat = CR_index['LocationCoord'].iloc[i][0]\n",
        "    long = CR_index['LocationCoord'].iloc[i][1]\n",
        "    radius = CR_index['ValueCount'].iloc[i] / 50\n",
        "\n",
        "    if CR_index['ValueCount'].iloc[i] > 60:\n",
        "        color = \"#FF4500\"\n",
        "    else:\n",
        "        color = \"#008080\"\n",
        "\n",
        "    popup_text = \"\"\"Latitude : {}<br>\n",
        "                Longitude : {}<br>\n",
        "                Criminal Incidents : {}<br>\"\"\"\n",
        "    popup_text = popup_text.format(lat,\n",
        "                               long,\n",
        "                               CR_index['ValueCount'].iloc[i]\n",
        "                               )\n",
        "    folium.CircleMarker(location = [lat, long], popup= popup_text,radius = radius, color = color, fill = True).add_to(chicago_map_crime)\n",
        "\n",
        "#chicago_map_crime.save('crime.html')\n",
        "\n",
        "display(chicago_map_crime)\n"
      ]
    },
    {
      "cell_type": "markdown",
      "metadata": {
        "id": "wl8wreOQhcQA"
      },
      "source": [
        "<h3>Usando outro g´rafico para ver a distribuição por determinado tipo de crime</h3>"
      ]
    },
    {
      "cell_type": "code",
      "execution_count": null,
      "metadata": {
        "scrolled": false,
        "id": "PEQww1b8hcQB"
      },
      "outputs": [],
      "source": [
        "# let's take in the crime as an input as always\n",
        "c = input(\"Entre o tipo de crime (Roubo, Homicídio, etc)>> \")\n",
        "crime_df = df[df['Primary Type']==c]\n",
        "\n",
        "sns.jointplot(x=crime_df['X Coordinate'].values, y=crime_df['Y Coordinate'].values, height=7, kind='hex')\n",
        "\n",
        "plt.xlabel(\"Latitude\", fontdict={'fontsize': 12}, weight='bold')\n",
        "plt.ylabel(\"Longitude\", fontdict={'fontsize': 12}, weight=\"bold\")\n",
        "plt.show()"
      ]
    },
    {
      "cell_type": "code",
      "source": [],
      "metadata": {
        "id": "30kwkzcgkrzj"
      },
      "execution_count": null,
      "outputs": []
    }
  ],
  "metadata": {
    "kernelspec": {
      "display_name": "Python 3",
      "language": "python",
      "name": "python3"
    },
    "language_info": {
      "codemirror_mode": {
        "name": "ipython",
        "version": 3
      },
      "file_extension": ".py",
      "mimetype": "text/x-python",
      "name": "python",
      "nbconvert_exporter": "python",
      "pygments_lexer": "ipython3",
      "version": "3.6.3"
    },
    "colab": {
      "provenance": []
    }
  },
  "nbformat": 4,
  "nbformat_minor": 0
}