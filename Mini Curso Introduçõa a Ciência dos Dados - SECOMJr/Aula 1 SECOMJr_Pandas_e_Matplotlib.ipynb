{
  "nbformat": 4,
  "nbformat_minor": 0,
  "metadata": {
    "colab": {
      "provenance": []
    },
    "kernelspec": {
      "name": "python3",
      "display_name": "Python 3"
    },
    "language_info": {
      "name": "python"
    }
  },
  "cells": [
    {
      "cell_type": "markdown",
      "source": [
        "#Exemplo 1 - Gráfico de linhas"
      ],
      "metadata": {
        "id": "BLn04Wm4ZZHr"
      }
    },
    {
      "cell_type": "code",
      "source": [],
      "metadata": {
        "id": "NVVL6i9vmSi9"
      },
      "execution_count": null,
      "outputs": []
    },
    {
      "cell_type": "code",
      "source": [],
      "metadata": {
        "id": "m4M5XBLImS2E"
      },
      "execution_count": null,
      "outputs": []
    },
    {
      "cell_type": "code",
      "source": [
        "import pandas as pd\n",
        "import matplotlib.pyplot as plt\n",
        "\n",
        "# Criar DataFrame de exemplo\n",
        "dados = {'Ano': [2010, 2012, 2014, 2016, 2018],\n",
        "         'Receita': [500, 700, 1000, 900, 1200]}\n",
        "df = pd.DataFrame(dados)\n",
        "\n",
        "# Gráfico de Linha\n",
        "plt.plot(df['Ano'], df['Receita'], marker='o')\n",
        "plt.title('Receita ao longo dos Anos')\n",
        "plt.xlabel('Ano')\n",
        "plt.ylabel('Receita (em milhares)')\n",
        "plt.show()"
      ],
      "metadata": {
        "id": "2RHk1FFEZcgD"
      },
      "execution_count": null,
      "outputs": []
    },
    {
      "cell_type": "markdown",
      "source": [
        "#Exemplo 2: Gráfico de Barras\n"
      ],
      "metadata": {
        "id": "WEQSZaJFZcn0"
      }
    },
    {
      "cell_type": "code",
      "source": [
        "plt.bar(df['Ano'], df['Receita'], color='skyblue')\n",
        "plt.title('Receita por Ano')\n",
        "plt.xlabel('Ano')\n",
        "plt.ylabel('Receita (em milhares)')\n",
        "plt.show()"
      ],
      "metadata": {
        "id": "mep1LYgKZcvT"
      },
      "execution_count": null,
      "outputs": []
    },
    {
      "cell_type": "markdown",
      "source": [
        "#Exemplo 3: Gráfico de Setores (Pie)\n"
      ],
      "metadata": {
        "id": "KNghq8VcZc2k"
      }
    },
    {
      "cell_type": "code",
      "source": [
        "# Gráfico de Setores (Pie)\n",
        "plt.pie(df['Receita'], labels=df['Ano'], autopct='%1.1f%%', startangle=90)\n",
        "plt.axis('equal')  # Assegura que o gráfico de setores seja circular\n",
        "plt.title('Distribuição da Receita por Ano')\n",
        "plt.show()"
      ],
      "metadata": {
        "id": "zKdCLPkkZc-s"
      },
      "execution_count": null,
      "outputs": []
    },
    {
      "cell_type": "markdown",
      "source": [
        "#Exemplo 4: Gráfico de Linha com Múltiplas Séries Temporais\n"
      ],
      "metadata": {
        "id": "t2jGdgFiZdYD"
      }
    },
    {
      "cell_type": "code",
      "source": [
        "# Criar DataFrame de exemplo com múltiplas séries temporais\n",
        "dados_multiseries = {'Ano': [2010, 2012, 2014, 2016, 2018],\n",
        "                     'Receita_A': [500, 700, 1000, 900, 1200],\n",
        "                     'Receita_B': [300, 400, 600, 800, 1000]}\n",
        "df_multiseries = pd.DataFrame(dados_multiseries)\n",
        "\n",
        "# Gráfico de Linha com Múltiplas Séries Temporais\n",
        "plt.plot(df_multiseries['Ano'], df_multiseries[['Receita_A', 'Receita_B']], marker='o')\n",
        "plt.legend(['Receita_A', 'Receita_B'])\n",
        "plt.title('Receita ao longo dos Anos (Múltiplas Séries)')\n",
        "plt.xlabel('Ano')\n",
        "plt.ylabel('Receita (em milhares)')\n",
        "plt.show()"
      ],
      "metadata": {
        "id": "mKOsso_TZdf1"
      },
      "execution_count": null,
      "outputs": []
    },
    {
      "cell_type": "markdown",
      "source": [
        "#Exemplo 5: Gráfico de Barras Empilhadas\n"
      ],
      "metadata": {
        "id": "8bzFgQc-ZdmG"
      }
    },
    {
      "cell_type": "code",
      "source": [
        "# Gráfico de Barras Empilhadas\n",
        "plt.bar(df_multiseries['Ano'], df_multiseries['Receita_A'], label='Receita_A', color='skyblue')\n",
        "plt.bar(df_multiseries['Ano'], df_multiseries['Receita_B'], label='Receita_B', color='lightcoral', bottom=df_multiseries['Receita_A'])\n",
        "plt.legend()\n",
        "plt.title('Receita por Ano (Barras Empilhadas)')\n",
        "plt.xlabel('Ano')\n",
        "plt.ylabel('Receita (em milhares)')\n",
        "plt.show()\n"
      ],
      "metadata": {
        "id": "S9Ve2f7gZduD"
      },
      "execution_count": null,
      "outputs": []
    },
    {
      "cell_type": "markdown",
      "source": [
        "#Trabalhando com mapas - Folium e GeoPy"
      ],
      "metadata": {
        "id": "R3Q8U4fBaD82"
      }
    },
    {
      "cell_type": "code",
      "source": [
        "import folium\n",
        "\n",
        "# Coordenadas das capitais brasileiras\n",
        "capitais_brasileiras = {\n",
        "    'Brasília': (-15.7801, -47.9292),\n",
        "    'São Paulo': (-23.5505, -46.6333),\n",
        "    'Rio de Janeiro': (-22.9068, -43.1729),\n",
        "    'Salvador': (-12.9714, -38.5014),\n",
        "    'Belo Horizonte': (-19.9167, -43.9345)\n",
        "}\n",
        "\n",
        "# Criar um mapa centrado no Brasil\n",
        "mapa = folium.Map(location=[-15.7801, -47.9292], zoom_start=4)\n",
        "\n",
        "# Adicionar marcadores para as capitais\n",
        "for capital, coordenadas in capitais_brasileiras.items():\n",
        "    folium.Marker(location=coordenadas, popup=capital).add_to(mapa)\n",
        "\n",
        "# Exibir o mapa\n",
        "mapa.save('capitais_brasileiras_mapa.html')\n",
        "mapa"
      ],
      "metadata": {
        "id": "qyyMtlthaEIi"
      },
      "execution_count": null,
      "outputs": []
    },
    {
      "cell_type": "markdown",
      "source": [
        "#Distância e localização com GeoPY"
      ],
      "metadata": {
        "id": "PAaGOSWKaSP7"
      }
    },
    {
      "cell_type": "code",
      "source": [
        "import folium\n",
        "from geopy.distance import geodesic\n",
        "\n",
        "# Coordenadas das capitais brasileiras\n",
        "capitais_brasileiras = {\n",
        "    'Brasília': (-15.7801, -47.9292),\n",
        "    'São Paulo': (-23.5505, -46.6333),\n",
        "    'Rio de Janeiro': (-22.9068, -43.1729),\n",
        "    'Salvador': (-12.9714, -38.5014),\n",
        "    'Belo Horizonte': (-19.9167, -43.9345)\n",
        "}\n",
        "# Lista para armazenar os dados do DataFrame\n",
        "dados_distancias = []\n",
        "# Criar um mapa centrado no Brasil\n",
        "mapa = folium.Map(location=[-15.7801, -47.9292], zoom_start=4)\n",
        "\n",
        "# Adicionar linhas entre as capitais com a distância em km\n",
        "for capital_origem, coords_origem in capitais_brasileiras.items():\n",
        "    for capital_destino, coords_destino in capitais_brasileiras.items():\n",
        "        if capital_origem != capital_destino:\n",
        "            distancia = geodesic(coords_origem, coords_destino).kilometers\n",
        "            linha = folium.PolyLine([coords_origem, coords_destino], color='blue', weight=1, opacity=0.5)\n",
        "            texto_distancia = f'{capital_origem} - {capital_destino}: {distancia:.2f} km'\n",
        "            folium.Popup(texto_distancia).add_to(linha)\n",
        "            linha.add_to(mapa)\n",
        "              # Adicionar dados ao DataFrame\n",
        "            dados_distancias.append({\n",
        "                'Origem': capital_origem,\n",
        "                'Destino': capital_destino,\n",
        "                'Distancia (km)': distancia\n",
        "            })\n",
        "\n",
        "# Adicionar marcadores para as capitais após as linhas, para que fiquem acima\n",
        "for capital, coordenadas in capitais_brasileiras.items():\n",
        "    folium.Marker(location=coordenadas, popup=capital).add_to(mapa)\n",
        "\n",
        "# Exibir o mapa\n",
        "mapa.save('capitais_brasileiras_mapa_com_distancias.html')\n",
        "mapa\n",
        "\n"
      ],
      "metadata": {
        "id": "tQ9gb2mMaSkz"
      },
      "execution_count": null,
      "outputs": []
    },
    {
      "cell_type": "markdown",
      "source": [
        "# Exibindo o dataframe criado no script anterior"
      ],
      "metadata": {
        "id": "r2iE48TybU7J"
      }
    },
    {
      "cell_type": "code",
      "source": [
        "df_distancias = pd.DataFrame(dados_distancias)\n",
        "print(df_distancias)"
      ],
      "metadata": {
        "id": "dSxIWdP-bVCe"
      },
      "execution_count": null,
      "outputs": []
    }
  ]
}