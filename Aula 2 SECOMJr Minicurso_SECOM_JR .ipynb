{
  "nbformat": 4,
  "nbformat_minor": 0,
  "metadata": {
    "colab": {
      "provenance": []
    },
    "kernelspec": {
      "name": "python3",
      "display_name": "Python 3"
    },
    "language_info": {
      "name": "python"
    }
  },
  "cells": [
    {
      "cell_type": "markdown",
      "source": [
        "##Ciência de Dados\n",
        "Análise Exploratória de Dados\n",
        "\n",
        "\n",
        "Nesta aula, vamos mostrar como descrevemos os dados em termos de medidas de estatística. Medidas de posição, dispersão e correlação serão descritas, com aplicações em diferentes conjuntos de dados.\n",
        "\n",
        "1. Visualização\n",
        "Uma das maneiras mais simples de visualizar a distribuição dos dados é através de gráficos de frequência e histogramas.\n",
        "\n",
        "Um exemplo de um gráfico de frequência:"
      ],
      "metadata": {
        "id": "eB_CVLDJjEIx"
      }
    },
    {
      "cell_type": "code",
      "source": [
        "import numpy as np\n",
        "import matplotlib.mlab as mlab\n",
        "import matplotlib.pyplot as plt\n",
        "import seaborn as sns"
      ],
      "metadata": {
        "id": "yJYrykTMvqR-"
      },
      "execution_count": null,
      "outputs": []
    },
    {
      "cell_type": "markdown",
      "source": [
        "###Distribuição de frequencia\n",
        "\n",
        "temos 10 intervalos (num_bins=10)\n",
        "COnta o numero de vezes que um numero pertence ao intervalo"
      ],
      "metadata": {
        "id": "x50g1moawwad"
      }
    },
    {
      "cell_type": "code",
      "source": [
        "x = [21,22,23,4,5,6,77,8,9,10,31,32,33,34,35,36,37,18,49,50,100]\n",
        "\n",
        "fig= plt.figure(figsize=(6,4))\n",
        "\n",
        "num_bins = 10\n",
        "n, bins, patches = plt.hist(x, num_bins, facecolor='blue', alpha=0.5, density=False, edgecolor='black', linewidth=1.2)\n",
        "plt.xlabel(\"X\", fontsize = 15)\n",
        "plt.ylabel(\"Frequencia\", fontsize = 15)\n",
        "plt.xticks(fontsize=10)\n",
        "plt.yticks(fontsize=10)\n",
        "plt.show()"
      ],
      "metadata": {
        "id": "k4PN3oGpwsut"
      },
      "execution_count": null,
      "outputs": []
    },
    {
      "cell_type": "markdown",
      "source": [
        "**No** caso do histograma, a área sob a curva deve ser igual a 1 (notem a diferença na escala do eixo das ordenadas (y)).\n"
      ],
      "metadata": {
        "id": "BX4TLOw0xXF1"
      }
    },
    {
      "cell_type": "code",
      "source": [
        "x = [21,22,23,4,5,6,77,8,9,10,31,32,33,34,35,36,37,18,49,50,100]\n",
        "\n",
        "fig= plt.figure(figsize=(6,4))\n",
        "\n",
        "num_bins = 10\n",
        "n, bins, patches = plt.hist(x, num_bins, facecolor='blue', alpha=0.5, density=True, edgecolor='black', linewidth=1.2)\n",
        "plt.xlabel(\"x\", fontsize = 15)\n",
        "plt.ylabel(\"f(x)\", fontsize = 15)\n",
        "plt.xticks(fontsize=10)\n",
        "plt.yticks(fontsize=10)\n",
        "plt.show()"
      ],
      "metadata": {
        "id": "5Zm2XYr1xcdX"
      },
      "execution_count": null,
      "outputs": []
    },
    {
      "cell_type": "markdown",
      "source": [
        "No caso de variáveis nominais, podemos usar gráficos de barra ou gráficos de setores. Notem que o valor no eixo das abscissas (x) é arbitrário e não deve ser levando em conta.\n"
      ],
      "metadata": {
        "id": "JCnaoXATxm4z"
      }
    },
    {
      "cell_type": "code",
      "source": [
        "Y = [\"Bom\", \"Ruim\", \"Ótimo\", \"Regular\", \"Regular\", \"Ótimo\", \"Ótimo\",\"Bom\", \"Ótimo\", \"Bom\", \"Ótimo\"]\n",
        "import matplotlib.pyplot as plt #biblioteca gráfica para mostrar os gráficos\n",
        "values = np.sort(np.unique(Y)) #usamos a funções sort e unique do Numpy para encontrar os valores possíveis.\n",
        "# vamos calcular a frequência de cada valor presente na lista\n",
        "freq = np.zeros(len(values)) # armazena as frequencias\n",
        "ind = 0 # indice do vetor de frequências\n",
        "for i in values: # para os valores diferentes\n",
        "    counter = 0 # conta as ocorrências\n",
        "    for j in range(0,len(Y)):\n",
        "        if(Y[j] == i):\n",
        "            counter = counter + 1\n",
        "    freq[ind] = counter\n",
        "    ind = ind + 1\n",
        "\n",
        "print('Y:',Y)\n",
        "print('Valores possíveis:', values)\n",
        "print('Frequencia dos valores:', freq)\n",
        "\n",
        "fig= plt.figure(figsize=(6,4))\n",
        "\n",
        "\n",
        "y_pos = np.arange(len(values))\n",
        "plt.xticks(y_pos, values)\n",
        "plt.bar(y_pos, freq)\n",
        "plt.xticks(fontsize=10)\n",
        "plt.yticks(fontsize=10)\n",
        "plt.xlabel(\"Valores\",fontsize = 15)\n",
        "plt.ylabel(\"Frequência\", fontsize = 15)\n",
        "plt.show()\n"
      ],
      "metadata": {
        "id": "EU0e7toixsOl"
      },
      "execution_count": null,
      "outputs": []
    },
    {
      "cell_type": "markdown",
      "source": [
        "Gráfico de setores:"
      ],
      "metadata": {
        "id": "2eJvaqFsyQOW"
      }
    },
    {
      "cell_type": "code",
      "source": [
        "print(values)\n",
        "print(freq)"
      ],
      "metadata": {
        "colab": {
          "base_uri": "https://localhost:8080/"
        },
        "id": "v0lLNw1vycLs",
        "outputId": "7a352ced-0471-4a95-a54a-d10d32922cc4"
      },
      "execution_count": null,
      "outputs": [
        {
          "output_type": "stream",
          "name": "stdout",
          "text": [
            "['Bom' 'Regular' 'Ruim' 'Ótimo']\n",
            "[3. 2. 1. 5.]\n"
          ]
        }
      ]
    },
    {
      "cell_type": "code",
      "source": [
        "labels = values\n",
        "sizes = freq\n",
        "explode = (0.1, 0, 0, 0)\n",
        "\n",
        "fig1, ax1 = plt.subplots(figsize=(10,6))\n",
        "ax1.pie(sizes, explode=explode, labels=labels, autopct='%1.1f%%', shadow=True, startangle=90)\n",
        "ax1.axis('equal')  # Equal aspect ratio ensures that pie is drawn as a circle.\n",
        "plt.show()"
      ],
      "metadata": {
        "id": "r9cO2aYhyUaW"
      },
      "execution_count": null,
      "outputs": []
    },
    {
      "cell_type": "markdown",
      "source": [
        "Outro gráfico importante é o scatterplot, usado quando queremos verificar a relação entre duas variáveis."
      ],
      "metadata": {
        "id": "NwzyVNwFzZK8"
      }
    },
    {
      "cell_type": "code",
      "source": [
        "N = 100\n",
        "X = np.linspace(-1,1, N) # gera N valores em [-1,1]\n",
        "erro = np.random.uniform(-1,1,N) # ruído a ser incluído na relação linear.\n",
        "sigma= 0.5\n",
        "Y = 0.8*X + erro*sigma\n",
        "\n",
        "fig= plt.figure(figsize=(6,4))\n",
        "\n",
        "plt.scatter(X, Y, marker='o', color = 'red');\n",
        "plt.xticks(fontsize=10)\n",
        "plt.yticks(fontsize=10)\n",
        "plt.xlabel(\"X\",fontsize = 15)\n",
        "plt.ylabel(\"Y\", fontsize = 15)\n",
        "plt.show()"
      ],
      "metadata": {
        "id": "oAytsPawzdJm"
      },
      "execution_count": null,
      "outputs": []
    },
    {
      "cell_type": "markdown",
      "source": [
        "####Podemos ter um gráfico com 3 dados :voos, meses e numero de passageiros\n",
        "https://seaborn.pydata.org/tutorial/data_structure.html\n"
      ],
      "metadata": {
        "id": "wXhmaXEYzpMG"
      }
    },
    {
      "cell_type": "code",
      "source": [
        "np.random.seed(0)\n",
        "sns.set()\n",
        "uniform_data = np.random.rand(10, 12)\n",
        "plt.figure(figsize=(12,6))\n",
        "flights = sns.load_dataset(\"flights\")\n",
        "flights.head()\n",
        "sns.relplot(data=flights, x=\"year\", y=\"passengers\", hue=\"month\", kind=\"line\")"
      ],
      "metadata": {
        "id": "ClgaOffJzxhV"
      },
      "execution_count": null,
      "outputs": []
    },
    {
      "cell_type": "code",
      "source": [
        "sns.set_theme()\n",
        "# Load the example flights dataset and convert to long-form\n",
        "flights_long = sns.load_dataset(\"flights\")\n",
        "flights = (\n",
        "    flights_long\n",
        "    .pivot(index=\"month\", columns=\"year\", values=\"passengers\")\n",
        ")"
      ],
      "metadata": {
        "id": "Jxsz6ZyRvvUl"
      },
      "execution_count": null,
      "outputs": []
    },
    {
      "cell_type": "code",
      "source": [
        "flights.head()"
      ],
      "metadata": {
        "id": "wKkkFMrWwh7V"
      },
      "execution_count": null,
      "outputs": []
    },
    {
      "cell_type": "code",
      "source": [
        "# Draw a heatmap with the numeric values in each cell\n",
        "f, ax = plt.subplots(figsize=(9, 6))\n",
        "sns.heatmap(flights, annot=True, fmt=\"d\", linewidths=.5, ax=ax)"
      ],
      "metadata": {
        "id": "v-erkSdhwdF-"
      },
      "execution_count": null,
      "outputs": []
    },
    {
      "cell_type": "code",
      "source": [
        "nomes = ['Ana', 'Bruno', 'Carla']\n",
        "idades = [21, 20, 22]\n",
        "dados = list(zip(nomes, idades))\n",
        "print(dados)"
      ],
      "metadata": {
        "id": "ecggviKE3TiP"
      },
      "execution_count": null,
      "outputs": []
    },
    {
      "cell_type": "code",
      "source": [
        "df = pd.DataFrame(data = dados)\n",
        "print(df)"
      ],
      "metadata": {
        "id": "VxNvGH5Wrcnm"
      },
      "execution_count": null,
      "outputs": []
    },
    {
      "cell_type": "code",
      "source": [
        "dados=[(\"A\",\"ANTONIO\",27),(\"B\",\"MARCUS\",17),(\"C\",\"MARIA AMELIA\",9),(\"D\",\"RONAN\",7)]\n",
        "df=pd.DataFrame(data=dados)\n",
        "df.head()"
      ],
      "metadata": {
        "id": "5wjM4GgK3z9x"
      },
      "execution_count": null,
      "outputs": []
    },
    {
      "cell_type": "code",
      "source": [
        "print(\"Quantos itens ao todo: \",df.size)\n",
        "print(\"Linhas e Colunas: \",df.shape)"
      ],
      "metadata": {
        "id": "uJGRdTMC4bvY"
      },
      "execution_count": null,
      "outputs": []
    },
    {
      "cell_type": "code",
      "source": [
        "# Endereço web do arquivo, mas poderia ser local.\n",
        "url = \"http://leg.ufpr.br/~walmes/data/euro_football_players.txt\"\n",
        "# Importa a tabela de dados.\n",
        "tb = pd.read_table(filepath_or_buffer = url, sep = \"\\t\",  comment = \"#\")\n",
        "tb.head(n = 6)"
      ],
      "metadata": {
        "id": "tdr9AanY-Sa5"
      },
      "execution_count": null,
      "outputs": []
    },
    {
      "cell_type": "code",
      "source": [
        "tb.info()"
      ],
      "metadata": {
        "id": "FGWwa8_r-inU"
      },
      "execution_count": null,
      "outputs": []
    },
    {
      "cell_type": "code",
      "source": [
        "tb.sort_values(by = \"name\", ascending = True)"
      ],
      "metadata": {
        "id": "yoNyRc_h-u4c"
      },
      "execution_count": null,
      "outputs": []
    },
    {
      "cell_type": "code",
      "source": [
        "#ordenando por duas variáveis\n",
        "tb.sort_values(by = [\"name\",\"team\"], ascending = True)   ##//ascending = [True, True])"
      ],
      "metadata": {
        "id": "WZ1_MuHL_DaU"
      },
      "execution_count": null,
      "outputs": []
    },
    {
      "cell_type": "code",
      "source": [
        "#ordenando e salvando ordenação\n",
        "tb.sort_values(by = [\"name\"], inplace = True)\n"
      ],
      "metadata": {
        "id": "D2eieOEm_YUU"
      },
      "execution_count": null,
      "outputs": []
    },
    {
      "cell_type": "markdown",
      "source": [
        "###Selecionando colunas para um novo dataframe"
      ],
      "metadata": {
        "id": "YMhXitHV_tGt"
      }
    },
    {
      "cell_type": "code",
      "source": [
        "df2=tb[['name','team','country']]\n",
        "df2.head()"
      ],
      "metadata": {
        "id": "TbXjwu8e_xYk"
      },
      "execution_count": null,
      "outputs": []
    },
    {
      "cell_type": "code",
      "source": [
        "#usando iloc para selecionar colunas\n",
        "df2=tb.loc[:, ['name','team','country']]\n",
        "df2.head()"
      ],
      "metadata": {
        "id": "mrLdktvoALLc"
      },
      "execution_count": null,
      "outputs": []
    },
    {
      "cell_type": "markdown",
      "source": [
        "# Mais sobre pandas\n",
        "http://www.leg.ufpr.br/~walmes/ensino/dsbd-linprog/slides/01-python-pandas.html#64"
      ],
      "metadata": {
        "id": "ziOaHcpzAlrd"
      }
    }
  ]
}